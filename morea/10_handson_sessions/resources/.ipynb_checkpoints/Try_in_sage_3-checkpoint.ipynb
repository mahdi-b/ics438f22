{
 "cells": [
  {
   "cell_type": "code",
   "execution_count": null,
   "id": "3da8ad63",
   "metadata": {},
   "outputs": [],
   "source": [
    "### libraries may or may not be installed\n",
    "### To force error Functions are intentionally vague \n"
   ]
  },
  {
   "cell_type": "code",
   "execution_count": null,
   "id": "1931fb4d",
   "metadata": {},
   "outputs": [],
   "source": [
    "### Import and list datasets\n",
    "\n",
    "# from datasets import list_datasets\n",
    "\n",
    "# all_datasets = # list datasets here and include param with_details=True to get maeta data\n",
    "# len(all_datasets)"
   ]
  },
  {
   "cell_type": "code",
   "execution_count": null,
   "id": "c2ab660b",
   "metadata": {},
   "outputs": [],
   "source": [
    "# print the type of the all_datasets variable"
   ]
  },
  {
   "cell_type": "code",
   "execution_count": 1,
   "id": "5c782519",
   "metadata": {},
   "outputs": [
    {
     "name": "stderr",
     "output_type": "stream",
     "text": [
      "/Users/mahdi/miniconda3/envs/s3-next/lib/python3.8/site-packages/tqdm/auto.py:22: TqdmWarning: IProgress not found. Please update jupyter and ipywidgets. See https://ipywidgets.readthedocs.io/en/stable/user_install.html\n",
      "  from .autonotebook import tqdm as notebook_tqdm\n"
     ]
    },
    {
     "data": {
      "text/plain": [
       "13570"
      ]
     },
     "execution_count": 1,
     "metadata": {},
     "output_type": "execute_result"
    }
   ],
   "source": [
    "print first dataset in in the list of all dataset"
   ]
  },
  {
   "cell_type": "code",
   "execution_count": null,
   "id": "9a92188a",
   "metadata": {},
   "outputs": [],
   "source": [
    "### load the `xtreme` with the name=f\"PAN-X.fr\"\n",
    "\n",
    "# ds = load the dataset (...)\n"
   ]
  },
  {
   "cell_type": "code",
   "execution_count": null,
   "id": "1a075d38",
   "metadata": {},
   "outputs": [],
   "source": [
    "# Filter the dataset to only retain token that contain the word `Ducati`\n",
    "\n",
    "# ds.filter(lambda ....)"
   ]
  }
 ],
 "metadata": {
  "kernelspec": {
   "display_name": "Python 3 (ipykernel)",
   "language": "python",
   "name": "python3"
  },
  "language_info": {
   "codemirror_mode": {
    "name": "ipython",
    "version": 3
   },
   "file_extension": ".py",
   "mimetype": "text/x-python",
   "name": "python",
   "nbconvert_exporter": "python",
   "pygments_lexer": "ipython3",
   "version": "3.8.13"
  }
 },
 "nbformat": 4,
 "nbformat_minor": 5
}
