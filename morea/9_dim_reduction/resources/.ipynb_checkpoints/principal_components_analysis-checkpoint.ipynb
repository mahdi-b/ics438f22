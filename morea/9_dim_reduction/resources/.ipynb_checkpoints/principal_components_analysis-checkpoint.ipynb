{
 "cells": [
  {
   "cell_type": "code",
   "execution_count": 2,
   "metadata": {
    "slideshow": {
     "slide_type": "skip"
    }
   },
   "outputs": [],
   "source": [
    "from IPython.display import Image\n",
    "import random \n",
    "import numpy as np\n",
    "import matplotlib.pyplot as pyplot \n",
    "import seaborn as sns\n",
    "import matplotlib.pyplot as plt\n",
    "\n",
    "import pandas as pd\n",
    "\n",
    "# we will be using preprocessing to normalize the data\n",
    "from sklearn.preprocessing import StandardScaler\n",
    "\n",
    "# we will be using LA to find eigenvectors\n",
    "from numpy import linalg as LA\n",
    "\n",
    "\n",
    "from sklearn.decomposition import PCA\n",
    "\n",
    "%matplotlib inline"
   ]
  },
  {
   "cell_type": "markdown",
   "metadata": {
    "slideshow": {
     "slide_type": "slide"
    }
   },
   "source": [
    "### Principal Components Analysis (PCA)\n",
    "\n",
    "* A popular dimensionality reduction algorithm\n",
    "\n",
    "* Attemptes to the find the principal axis that reprent the data  to reducing the dimensionality a dataset\n",
    "  *  A the same time we want to minimizing information loss\n",
    "\n",
    "* The objective of PCA is to increase interpretability and mitigate the curse of dimensionality\n"
   ]
  },
  {
   "cell_type": "markdown",
   "metadata": {
    "slideshow": {
     "slide_type": "slide"
    }
   },
   "source": [
    "#### Contextualizing PCA projecting on an existing dimension\n",
    "\n",
    "* Why not just drop one of the dimensions?\n",
    "\n",
    "![](https://www.dropbox.com/s/9qz14uo03cn2vsh/projecting_on_x.png?dl=1)\n"
   ]
  },
  {
   "cell_type": "markdown",
   "metadata": {
    "slideshow": {
     "slide_type": "slide"
    }
   },
   "source": [
    "#### Contextualizing PCA projecting on an existing dimension\n",
    "\n",
    "* Or perhaps drop `Y`? \n",
    "   * This projection makes the data look \"better\"\n",
    "\n",
    "![](https://www.dropbox.com/s/udzu87138zcovn9/projecting_on_y.png?dl=1)\n",
    "\n"
   ]
  },
  {
   "cell_type": "markdown",
   "metadata": {
    "slideshow": {
     "slide_type": "slide"
    }
   },
   "source": [
    "#### Contextualizing PCA projecting on an existing dimension\n",
    "\n",
    "* Or project on any axis we desire to project on\n",
    "\n",
    "![](https://www.dropbox.com/s/tcqkgrydas82jes/projecting_on_z.png?dl=1)\n"
   ]
  },
  {
   "cell_type": "markdown",
   "metadata": {},
   "source": [
    "#### Selecting the new dimensions\n",
    "\n",
    "* How do we select the projection axis (or axes) in the data?\n",
    "  * Given a dataset with dimension $D$, we need to find a new set of dimensions ($d$) such that $d<<D$\n",
    "* Some new projections are better than other\n",
    "\n",
    "<img src=\"https://www.dropbox.com/s/g8ls7jhzy3kl7jx/bad_better_projection.png?dl=1\" alt=\"drawing\" style=\"width:900px;\"/>\n"
   ]
  },
  {
   "cell_type": "markdown",
   "metadata": {
    "slideshow": {
     "slide_type": "skip"
    }
   },
   "source": [
    "#### Contextualizing PCA\n",
    "\n",
    "* We prefer to project on the axis that maximizes the variance in the data. \n",
    "\n",
    "* It's helpful to think of the variance as the information that is contained in the data. \n",
    "\n",
    "* We want the axis that maximize the information contained in the data.\n",
    "\n",
    "* This axis, does not have to be one of the axes of the coordinate system.\n",
    "\n",
    "\n",
    "* If we rotate the data points from the previous example by 45°, then the $x-$axis is no longer the axis that maximizes the variance.\n",
    "\n"
   ]
  },
  {
   "cell_type": "markdown",
   "metadata": {
    "slideshow": {
     "slide_type": "slide"
    }
   },
   "source": [
    "# The Axis Minimizing the Variance\n",
    "\n",
    "* Now, the line that maximizes the variance is the one that forms 45° angle with the $x-$axis \n",
    "\n",
    "![](https://www.dropbox.com/s/otgm3whs20bie81/data_projection_4.png?dl=1)\n"
   ]
  },
  {
   "cell_type": "code",
   "execution_count": 3,
   "metadata": {
    "slideshow": {
     "slide_type": "skip"
    }
   },
   "outputs": [
    {
     "ename": "TypeError",
     "evalue": "regplot() takes from 0 to 1 positional arguments but 2 positional arguments (and 1 keyword-only argument) were given",
     "output_type": "error",
     "traceback": [
      "\u001b[0;31m---------------------------------------------------------------------------\u001b[0m",
      "\u001b[0;31mTypeError\u001b[0m                                 Traceback (most recent call last)",
      "Cell \u001b[0;32mIn [3], line 13\u001b[0m\n\u001b[1;32m     10\u001b[0m _ \u001b[38;5;241m=\u001b[39m pyplot\u001b[38;5;241m.\u001b[39mylim(\u001b[38;5;241m-\u001b[39m\u001b[38;5;241m6\u001b[39m, \u001b[38;5;241m6\u001b[39m)\n\u001b[1;32m     11\u001b[0m _ \u001b[38;5;241m=\u001b[39m pyplot\u001b[38;5;241m.\u001b[39mxlim(\u001b[38;5;241m-\u001b[39m\u001b[38;5;241m6\u001b[39m, \u001b[38;5;241m6\u001b[39m)\n\u001b[0;32m---> 13\u001b[0m \u001b[43msns\u001b[49m\u001b[38;5;241;43m.\u001b[39;49m\u001b[43mregplot\u001b[49m\u001b[43m(\u001b[49m\u001b[43mx_axis\u001b[49m\u001b[43m,\u001b[49m\u001b[43m \u001b[49m\u001b[43my_axis\u001b[49m\u001b[43m,\u001b[49m\u001b[43m \u001b[49m\u001b[43mci\u001b[49m\u001b[38;5;241;43m=\u001b[39;49m\u001b[38;5;28;43;01mFalse\u001b[39;49;00m\u001b[43m,\u001b[49m\u001b[43m \u001b[49m\u001b[43m)\u001b[49m\n\u001b[1;32m     15\u001b[0m \u001b[38;5;66;03m# alternative projection line 1\u001b[39;00m\n\u001b[1;32m     16\u001b[0m pyplot\u001b[38;5;241m.\u001b[39mplot(np\u001b[38;5;241m.\u001b[39marange(\u001b[38;5;241m-\u001b[39m\u001b[38;5;241m6\u001b[39m, \u001b[38;5;241m6\u001b[39m, \u001b[38;5;241m0.06\u001b[39m), [\u001b[38;5;241m0\u001b[39m \u001b[38;5;28;01mfor\u001b[39;00m _ \u001b[38;5;129;01min\u001b[39;00m np\u001b[38;5;241m.\u001b[39marange(\u001b[38;5;241m-\u001b[39m\u001b[38;5;241m6\u001b[39m, \u001b[38;5;241m6\u001b[39m, \u001b[38;5;241m0.06\u001b[39m)], \u001b[38;5;124m'\u001b[39m\u001b[38;5;124mk--\u001b[39m\u001b[38;5;124m'\u001b[39m, lw\u001b[38;5;241m=\u001b[39m\u001b[38;5;241m2\u001b[39m)\n",
      "\u001b[0;31mTypeError\u001b[0m: regplot() takes from 0 to 1 positional arguments but 2 positional arguments (and 1 keyword-only argument) were given"
     ]
    },
    {
     "data": {
      "image/png": "[encoded data removed]",
      "text/plain": [
       "<Figure size 864x720 with 1 Axes>"
      ]
     },
     "metadata": {
      "needs_background": "light"
     },
     "output_type": "display_data"
    }
   ],
   "source": [
    "\n",
    "random.seed(246)\n",
    "x_axis = np.random.normal(0, 2, 30)\n",
    "x_axis.sort()\n",
    "noise = np.random.normal(0, 0.5, 30)\n",
    "y_axis = x_axis * 1.2 + noise\n",
    "\n",
    "randomData = pd.DataFrame({'x': x_axis, 'y': y_axis})\n",
    "\n",
    "pyplot.figure(figsize=(12,10))\n",
    "_ = pyplot.ylim(-6, 6)\n",
    "_ = pyplot.xlim(-6, 6)\n",
    "\n",
    "sns.regplot(x_axis, y_axis, ci=False, )\n",
    "\n",
    "# alternative projection line 1\n",
    "pyplot.plot(np.arange(-6, 6, 0.06), [0 for _ in np.arange(-6, 6, 0.06)], 'k--', lw=2)\n",
    "pyplot.text(-4, 0.2, 'proj_line_2')\n",
    "\n",
    "# alternative projection line 1\n",
    "pyplot.plot(np.arange(-6, 6, 0.06), [-x/2. for x in np.arange(-6, 6, 0.06)], '-', lw=2)\n",
    "pyplot.text(-4, 2.2, 'proj_line_3')\n",
    "\n",
    "\n"
   ]
  },
  {
   "cell_type": "markdown",
   "metadata": {
    "slideshow": {
     "slide_type": "slide"
    }
   },
   "source": [
    "<img src=\"https://www.dropbox.com/s/earjhzutb1yx48x/axes.png?dl=1\" alt=\"drawing\" style=\"width:500px;\"/>"
   ]
  },
  {
   "cell_type": "markdown",
   "metadata": {
    "slideshow": {
     "slide_type": "slide"
    }
   },
   "source": [
    "<img src=\"https://www.dropbox.com/s/cupxib5e7k13qcc/projection_vectors_.png?dl=1\" alt=\"drawing\" style=\"width:500px;\"/>\n"
   ]
  },
  {
   "cell_type": "code",
   "execution_count": 4,
   "metadata": {},
   "outputs": [
    {
     "data": {
      "text/html": [
       "<div>\n",
       "<style scoped>\n",
       "    .dataframe tbody tr th:only-of-type {\n",
       "        vertical-align: middle;\n",
       "    }\n",
       "\n",
       "    .dataframe tbody tr th {\n",
       "        vertical-align: top;\n",
       "    }\n",
       "\n",
       "    .dataframe thead th {\n",
       "        text-align: right;\n",
       "    }\n",
       "</style>\n",
       "<table border=\"1\" class=\"dataframe\">\n",
       "  <thead>\n",
       "    <tr style=\"text-align: right;\">\n",
       "      <th></th>\n",
       "      <th>x</th>\n",
       "      <th>y</th>\n",
       "    </tr>\n",
       "  </thead>\n",
       "  <tbody>\n",
       "    <tr>\n",
       "      <th>0</th>\n",
       "      <td>-6.226472</td>\n",
       "      <td>-7.868343</td>\n",
       "    </tr>\n",
       "    <tr>\n",
       "      <th>1</th>\n",
       "      <td>-3.119132</td>\n",
       "      <td>-3.755842</td>\n",
       "    </tr>\n",
       "    <tr>\n",
       "      <th>2</th>\n",
       "      <td>-2.397435</td>\n",
       "      <td>-3.171552</td>\n",
       "    </tr>\n",
       "    <tr>\n",
       "      <th>3</th>\n",
       "      <td>-2.272777</td>\n",
       "      <td>-3.055429</td>\n",
       "    </tr>\n",
       "    <tr>\n",
       "      <th>4</th>\n",
       "      <td>-2.009347</td>\n",
       "      <td>-1.205541</td>\n",
       "    </tr>\n",
       "    <tr>\n",
       "      <th>5</th>\n",
       "      <td>-1.781848</td>\n",
       "      <td>-2.584037</td>\n",
       "    </tr>\n",
       "    <tr>\n",
       "      <th>6</th>\n",
       "      <td>-1.529388</td>\n",
       "      <td>-1.657505</td>\n",
       "    </tr>\n",
       "    <tr>\n",
       "      <th>7</th>\n",
       "      <td>-1.489711</td>\n",
       "      <td>-1.289369</td>\n",
       "    </tr>\n",
       "    <tr>\n",
       "      <th>8</th>\n",
       "      <td>-1.407580</td>\n",
       "      <td>-1.020565</td>\n",
       "    </tr>\n",
       "    <tr>\n",
       "      <th>9</th>\n",
       "      <td>-1.082565</td>\n",
       "      <td>-2.248967</td>\n",
       "    </tr>\n",
       "    <tr>\n",
       "      <th>10</th>\n",
       "      <td>-0.972844</td>\n",
       "      <td>-1.882512</td>\n",
       "    </tr>\n",
       "    <tr>\n",
       "      <th>11</th>\n",
       "      <td>-0.800087</td>\n",
       "      <td>-1.180515</td>\n",
       "    </tr>\n",
       "    <tr>\n",
       "      <th>12</th>\n",
       "      <td>-0.614801</td>\n",
       "      <td>-0.245283</td>\n",
       "    </tr>\n",
       "    <tr>\n",
       "      <th>13</th>\n",
       "      <td>-0.606563</td>\n",
       "      <td>-1.191635</td>\n",
       "    </tr>\n",
       "    <tr>\n",
       "      <th>14</th>\n",
       "      <td>-0.533466</td>\n",
       "      <td>-0.214680</td>\n",
       "    </tr>\n",
       "    <tr>\n",
       "      <th>15</th>\n",
       "      <td>-0.389894</td>\n",
       "      <td>0.262654</td>\n",
       "    </tr>\n",
       "    <tr>\n",
       "      <th>16</th>\n",
       "      <td>-0.075264</td>\n",
       "      <td>0.420933</td>\n",
       "    </tr>\n",
       "    <tr>\n",
       "      <th>17</th>\n",
       "      <td>0.359938</td>\n",
       "      <td>-0.022181</td>\n",
       "    </tr>\n",
       "    <tr>\n",
       "      <th>18</th>\n",
       "      <td>0.495733</td>\n",
       "      <td>0.971571</td>\n",
       "    </tr>\n",
       "    <tr>\n",
       "      <th>19</th>\n",
       "      <td>0.664566</td>\n",
       "      <td>0.928881</td>\n",
       "    </tr>\n",
       "    <tr>\n",
       "      <th>20</th>\n",
       "      <td>0.739228</td>\n",
       "      <td>1.120169</td>\n",
       "    </tr>\n",
       "    <tr>\n",
       "      <th>21</th>\n",
       "      <td>1.158830</td>\n",
       "      <td>1.450968</td>\n",
       "    </tr>\n",
       "    <tr>\n",
       "      <th>22</th>\n",
       "      <td>1.175002</td>\n",
       "      <td>1.492861</td>\n",
       "    </tr>\n",
       "    <tr>\n",
       "      <th>23</th>\n",
       "      <td>1.244039</td>\n",
       "      <td>1.078643</td>\n",
       "    </tr>\n",
       "    <tr>\n",
       "      <th>24</th>\n",
       "      <td>1.506944</td>\n",
       "      <td>2.145356</td>\n",
       "    </tr>\n",
       "    <tr>\n",
       "      <th>25</th>\n",
       "      <td>1.676062</td>\n",
       "      <td>3.192264</td>\n",
       "    </tr>\n",
       "    <tr>\n",
       "      <th>26</th>\n",
       "      <td>2.170381</td>\n",
       "      <td>1.324692</td>\n",
       "    </tr>\n",
       "    <tr>\n",
       "      <th>27</th>\n",
       "      <td>2.170968</td>\n",
       "      <td>3.147291</td>\n",
       "    </tr>\n",
       "    <tr>\n",
       "      <th>28</th>\n",
       "      <td>2.628927</td>\n",
       "      <td>2.909879</td>\n",
       "    </tr>\n",
       "    <tr>\n",
       "      <th>29</th>\n",
       "      <td>3.557409</td>\n",
       "      <td>3.783542</td>\n",
       "    </tr>\n",
       "  </tbody>\n",
       "</table>\n",
       "</div>"
      ],
      "text/plain": [
       "           x         y\n",
       "0  -6.226472 -7.868343\n",
       "1  -3.119132 -3.755842\n",
       "2  -2.397435 -3.171552\n",
       "3  -2.272777 -3.055429\n",
       "4  -2.009347 -1.205541\n",
       "5  -1.781848 -2.584037\n",
       "6  -1.529388 -1.657505\n",
       "7  -1.489711 -1.289369\n",
       "8  -1.407580 -1.020565\n",
       "9  -1.082565 -2.248967\n",
       "10 -0.972844 -1.882512\n",
       "11 -0.800087 -1.180515\n",
       "12 -0.614801 -0.245283\n",
       "13 -0.606563 -1.191635\n",
       "14 -0.533466 -0.214680\n",
       "15 -0.389894  0.262654\n",
       "16 -0.075264  0.420933\n",
       "17  0.359938 -0.022181\n",
       "18  0.495733  0.971571\n",
       "19  0.664566  0.928881\n",
       "20  0.739228  1.120169\n",
       "21  1.158830  1.450968\n",
       "22  1.175002  1.492861\n",
       "23  1.244039  1.078643\n",
       "24  1.506944  2.145356\n",
       "25  1.676062  3.192264\n",
       "26  2.170381  1.324692\n",
       "27  2.170968  3.147291\n",
       "28  2.628927  2.909879\n",
       "29  3.557409  3.783542"
      ]
     },
     "execution_count": 4,
     "metadata": {},
     "output_type": "execute_result"
    }
   ],
   "source": [
    "randomData"
   ]
  },
  {
   "cell_type": "code",
   "execution_count": 5,
   "metadata": {
    "slideshow": {
     "slide_type": "slide"
    }
   },
   "outputs": [
    {
     "data": {
      "text/html": [
       "<div>\n",
       "<style scoped>\n",
       "    .dataframe tbody tr th:only-of-type {\n",
       "        vertical-align: middle;\n",
       "    }\n",
       "\n",
       "    .dataframe tbody tr th {\n",
       "        vertical-align: top;\n",
       "    }\n",
       "\n",
       "    .dataframe thead th {\n",
       "        text-align: right;\n",
       "    }\n",
       "</style>\n",
       "<table border=\"1\" class=\"dataframe\">\n",
       "  <thead>\n",
       "    <tr style=\"text-align: right;\">\n",
       "      <th></th>\n",
       "      <th>0</th>\n",
       "    </tr>\n",
       "  </thead>\n",
       "  <tbody>\n",
       "    <tr>\n",
       "      <th>0</th>\n",
       "      <td>-14.094815</td>\n",
       "    </tr>\n",
       "    <tr>\n",
       "      <th>1</th>\n",
       "      <td>-6.874974</td>\n",
       "    </tr>\n",
       "    <tr>\n",
       "      <th>2</th>\n",
       "      <td>-5.568987</td>\n",
       "    </tr>\n",
       "    <tr>\n",
       "      <th>3</th>\n",
       "      <td>-5.328206</td>\n",
       "    </tr>\n",
       "    <tr>\n",
       "      <th>4</th>\n",
       "      <td>-3.214889</td>\n",
       "    </tr>\n",
       "  </tbody>\n",
       "</table>\n",
       "</div>"
      ],
      "text/plain": [
       "           0\n",
       "0 -14.094815\n",
       "1  -6.874974\n",
       "2  -5.568987\n",
       "3  -5.328206\n",
       "4  -3.214889"
      ]
     },
     "execution_count": 5,
     "metadata": {},
     "output_type": "execute_result"
    }
   ],
   "source": [
    "randomData.dot(np.array([[1],[1]])).head()"
   ]
  },
  {
   "cell_type": "code",
   "execution_count": 6,
   "metadata": {
    "slideshow": {
     "slide_type": "slide"
    }
   },
   "outputs": [
    {
     "data": {
      "text/plain": [
       "18.91248441011196"
      ]
     },
     "execution_count": 6,
     "metadata": {},
     "output_type": "execute_result"
    }
   ],
   "source": [
    "# Best looking projection line\n",
    "np.var(randomData.dot(np.array([[1],[1]])))[0]"
   ]
  },
  {
   "cell_type": "code",
   "execution_count": 7,
   "metadata": {
    "slideshow": {
     "slide_type": "slide"
    }
   },
   "outputs": [
    {
     "data": {
      "image/png": "[encoded data removed]",
      "text/plain": [
       "<Figure size 432x288 with 1 Axes>"
      ]
     },
     "metadata": {
      "needs_background": "light"
     },
     "output_type": "display_data"
    }
   ],
   "source": [
    "pyplot.xlabel('best fit line')\n",
    "\n",
    "pyplot.title('Projecting on the best fit line')\n",
    "\n",
    "pyplot.plot(np.arange(-12,12, 0.1), [0 for _ in np.arange(-12,12, 0.1)], 'b')\n",
    "pyplot.scatter(randomData.dot(np.array([1,1])), [0 for _ in range(len(randomData))])\n",
    "\n",
    "pyplot.xlim(-10, 10)\n",
    "\n",
    "ax = pyplot.gca()\n",
    "\n",
    "ax.yaxis.set_visible(False)"
   ]
  },
  {
   "cell_type": "code",
   "execution_count": 8,
   "metadata": {
    "slideshow": {
     "slide_type": "slide"
    }
   },
   "outputs": [
    {
     "data": {
      "text/plain": [
       "3.8268893462564173"
      ]
     },
     "execution_count": 8,
     "metadata": {},
     "output_type": "execute_result"
    }
   ],
   "source": [
    "# Second best looking projection line\n",
    "\n",
    "np.var(randomData.dot(np.array([[1], [0]])))[0]"
   ]
  },
  {
   "cell_type": "code",
   "execution_count": 9,
   "metadata": {
    "slideshow": {
     "slide_type": "slide"
    }
   },
   "outputs": [
    {
     "data": {
      "image/png": "[encoded data removed]",
      "text/plain": [
       "<Figure size 432x288 with 1 Axes>"
      ]
     },
     "metadata": {
      "needs_background": "light"
     },
     "output_type": "display_data"
    }
   ],
   "source": [
    "pyplot.xlabel('proj_line_1')\n",
    "pyplot.title('Projecting on proj_line_1')\n",
    "\n",
    "pyplot.plot(np.arange(-12,12, 0.1), [0 for _ in np.arange(-12,12, 0.1)], 'k--')\n",
    "pyplot.scatter(randomData.dot(np.array([[1],[0]])), [0 for _ in range(len(randomData))])\n",
    "\n",
    "pyplot.xlim(-10, 10)\n",
    "\n",
    "ax = pyplot.gca()\n",
    "\n",
    "ax.yaxis.set_visible(False)"
   ]
  },
  {
   "cell_type": "code",
   "execution_count": 10,
   "metadata": {
    "slideshow": {
     "slide_type": "slide"
    }
   },
   "outputs": [
    {
     "data": {
      "text/plain": [
       "0.6897068967677247"
      ]
     },
     "execution_count": 10,
     "metadata": {},
     "output_type": "execute_result"
    }
   ],
   "source": [
    "# Third best looking projection line\n",
    "\n",
    "np.var(randomData.dot(np.array([[1], [-0.5]])))[0]"
   ]
  },
  {
   "cell_type": "code",
   "execution_count": 11,
   "metadata": {
    "slideshow": {
     "slide_type": "slide"
    }
   },
   "outputs": [
    {
     "data": {
      "image/png": "[encoded data removed]",
      "text/plain": [
       "<Figure size 432x288 with 1 Axes>"
      ]
     },
     "metadata": {
      "needs_background": "light"
     },
     "output_type": "display_data"
    }
   ],
   "source": [
    "pyplot.xlabel('proj_line_3')\n",
    "pyplot.title('Projecting on proj_line_3')\n",
    "\n",
    "pyplot.plot(np.arange(-10,10, 0.1), [0 for _ in np.arange(-10,10, 0.1)], 'k--')\n",
    "pyplot.scatter(randomData.dot(np.array([[1],[-0.5]])), [0 for _ in range(len(randomData))])\n",
    "\n",
    "pyplot.xlim(-10, 10)\n",
    "\n",
    "ax = pyplot.gca()\n",
    "\n",
    "ax.yaxis.set_visible(False)"
   ]
  },
  {
   "cell_type": "markdown",
   "metadata": {
    "collapsed": true,
    "slideshow": {
     "slide_type": "slide"
    }
   },
   "source": [
    "### What is PCA?\n",
    "\n",
    "The objective of PCA is to find the set of axes -- we call them components -- on which we project the data while maintaining as much of the information as possible. \n",
    "\n",
    "* PCA finds $D$ set of axes that contain all the information in the data.\n",
    "\n",
    "\n",
    "* We typically only use two or three if we need to visualize the data\n",
    "* We pick as many components as needed to capture as much variability in the data as we desire\n",
    "  * Be able abo to reproduce the original data\n"
   ]
  },
  {
   "cell_type": "markdown",
   "metadata": {
    "slideshow": {
     "slide_type": "slide"
    }
   },
   "source": [
    "### Requirement of the PCA?\n",
    "\n",
    "* The two important requirements are that:\n",
    "  * The new components are ranked by how much variability in the data they capture. For instance, the first component captures more variability than the second component, the second more than the third and so on.\n",
    "  * The components are not correlated -- they are orthogonal.\n",
    "    * why are orthogonal components not-correlated? \n",
    "    * We need this as a constraint to force components to be different, i.e., we need to components to tell us different things about the data"
   ]
  },
  {
   "cell_type": "markdown",
   "metadata": {
    "slideshow": {
     "slide_type": "slide"
    }
   },
   "source": [
    "### Eigenvalues and Eigenvectors\n",
    "\n",
    "* Eigenvalues and eigenvectors are concept of linear algebra.\n",
    "\n",
    "- An __eigenvector__ is a non-zero vector that only changes by an overall scale when a linear transformation is applied to it, i.e., when a matrix is multiplied by it\n",
    "\n",
    "  * In other words, multiplying a matrix by that vector produces a vector that is only stretched or shrunk and not rotated.\n",
    "  \n",
    "- An __eigenvalue__ is simply the scalar value $\\lambda$ by which the vector was stretched during the linear transformation.\n",
    "\n",
    "In other words:\n",
    "\n",
    "$$\n",
    "\\mathbf{A} \\mathbf{u} = \\lambda\\mathbf{u}\n",
    "$$\n"
   ]
  },
  {
   "cell_type": "markdown",
   "metadata": {
    "slideshow": {
     "slide_type": "slide"
    }
   },
   "source": [
    "Example. Given: \n",
    "    \n",
    "$$\n",
    "A =\n",
    "\\left( \\begin{array}{cc}\n",
    "3 & -5 \\\\\n",
    "1 & 2 \\\\\n",
    "\\end{array} \\right)\n",
    "$$ is $\\mathbf{u}$, where \n",
    "$$\n",
    "\\mathbf{u}= \\left( \\begin{array}{c}\n",
    "1\\\\\n",
    "4\\\\\n",
    "\\end{array} \\right)\n",
    "$$\n",
    "an eigenvector for A?\n"
   ]
  },
  {
   "cell_type": "markdown",
   "metadata": {
    "slideshow": {
     "slide_type": "slide"
    }
   },
   "source": [
    "### Linear Transformation\n",
    "\n",
    "<img src=\"https://www.dropbox.com/s/06w956xkjp2x9wp/multiplication_1.png?dl=1\" alt=\"drawing\" style=\"width:500px;\"/>\n",
    "\n",
    "\n",
    "*$\\mathbf{u}$ is not the linear transformation of $\\mathbf{A}$."
   ]
  },
  {
   "cell_type": "markdown",
   "metadata": {
    "slideshow": {
     "slide_type": "slide"
    }
   },
   "source": [
    "### Finding Eigenvector\n",
    "\n",
    "* We find a eigenvector for A using the `linalg` module in `numpy`\n",
    "\n",
    "$$\n",
    "A =\n",
    "\\left( \\begin{array}{cc}\n",
    "3 & 0 \\\\\n",
    "1 & 6 \\\\\n",
    "\\end{array} \\right)\n",
    "$$"
   ]
  },
  {
   "cell_type": "code",
   "execution_count": 12,
   "metadata": {
    "slideshow": {
     "slide_type": "slide"
    }
   },
   "outputs": [],
   "source": [
    "A = np.array([[3,0], [1,6]])\n",
    "\n",
    "w, v = LA.eig(A)\n"
   ]
  },
  {
   "cell_type": "code",
   "execution_count": 13,
   "metadata": {
    "slideshow": {
     "slide_type": "slide"
    }
   },
   "outputs": [
    {
     "name": "stdout",
     "output_type": "stream",
     "text": [
      "[[ 0.          0.9486833 ]\n",
      " [ 1.         -0.31622777]]\n"
     ]
    }
   ],
   "source": [
    "print(v)"
   ]
  },
  {
   "cell_type": "markdown",
   "metadata": {
    "slideshow": {
     "slide_type": "slide"
    }
   },
   "source": [
    "This means that \n",
    "$$\n",
    "\\mathbf{u_1}= \\left( \\begin{array}{c}\n",
    "0\\\\\n",
    "1\\\\\n",
    "\\end{array} \\right)\n",
    "$$ is a first eigenvector and \n",
    "\n",
    "$$\n",
    "\\mathbf{u_2}= \\left( \\begin{array}{c}\n",
    "0.9486833 \\\\\n",
    "-0.31622777\\\\\n",
    "\\end{array} \\right)\n",
    "$$ is a second eigenvector"
   ]
  },
  {
   "cell_type": "code",
   "execution_count": 14,
   "metadata": {
    "slideshow": {
     "slide_type": "slide"
    }
   },
   "outputs": [
    {
     "data": {
      "text/html": [
       "<img src=\"https://www.dropbox.com/s/ta8gbws0bdtkma7/multiplication_2.png?dl=1\" width=\"600\"/>"
      ],
      "text/plain": [
       "<IPython.core.display.Image object>"
      ]
     },
     "execution_count": 14,
     "metadata": {},
     "output_type": "execute_result"
    }
   ],
   "source": [
    "Image(url=\"https://www.dropbox.com/s/ta8gbws0bdtkma7/multiplication_2.png?dl=1\", width=600)\n"
   ]
  },
  {
   "cell_type": "markdown",
   "metadata": {
    "slideshow": {
     "slide_type": "slide"
    }
   },
   "source": [
    "### Finding Eigenvalues and Eigenvectors\n",
    "\n",
    "* Mutiplying the martix by the $\\mathbf{u_1}$ scales the vector by 6, \n",
    "\n",
    "* Multiplying by $\\mathbf{u_2}$ scales the vector by 3. \n",
    "\n",
    "* The values 6 and 3 the weights, or eigenvalues, of $u_1$ and $u_2$ respectively."
   ]
  },
  {
   "cell_type": "code",
   "execution_count": 15,
   "metadata": {
    "slideshow": {
     "slide_type": "slide"
    }
   },
   "outputs": [
    {
     "name": "stdout",
     "output_type": "stream",
     "text": [
      "[6. 3.]\n"
     ]
    }
   ],
   "source": [
    "print(w)"
   ]
  },
  {
   "cell_type": "markdown",
   "metadata": {
    "slideshow": {
     "slide_type": "slide"
    }
   },
   "source": [
    "### Scaling the data\n",
    "\n",
    "\n",
    "* This is a  critical point that we need to consider before carrying out the PCA. \n",
    "\n",
    "  * We don't want the variance over one axis (variable) to bias the data simply because the scale is different. \n",
    "\n",
    "* Ex. consider $x_1$ measures weights in grams for mammalian animal species and $x_2$ measures progeny size. \n",
    "  * Here, $x_1$ can be orders of magnitude larger than the $x_2$ progeny size, \n",
    "    * This can substantially bias the results\n",
    "\n"
   ]
  },
  {
   "cell_type": "markdown",
   "metadata": {
    "slideshow": {
     "slide_type": "slide"
    }
   },
   "source": [
    "### Scaling the data - Cont'd \n",
    "\n",
    "\n",
    "* The first step that is usually carried out in PCA is normlizaing the data\n",
    "\n",
    "  * Rescaling the data by centering it at 0, and normalizing by the variance; this is called the standard score\n",
    "  * Expressing the data in term of standard deviations\n",
    "\n",
    "$$\n",
    "x_{new}=\\frac{x -\\mu}{\\sigma}\n",
    "$$\n",
    "\n",
    "* Data can be used to find  the eigenvector with the largest eigenvalue and project on that vector first"
   ]
  },
  {
   "cell_type": "markdown",
   "metadata": {
    "slideshow": {
     "slide_type": "slide"
    }
   },
   "source": [
    "### Constraints on the Data\n",
    "\n",
    "* Given an original dimension $m$\n",
    "\n",
    "* The matrix $\\mathbf{A}_{m\\times n}$ must be square; i.e. $m=n$ \n",
    "  \n",
    "  * If $m\\ne n$, then $\\mathbf{A}_{n \\times m} \\cdot \\mathbf{u}_{m\\times 1}  = \\mathbf{v}_{n \\times 1} \\implies \\mathbf{v} \\ne \\mathbf{u}$ \n",
    "  \n",
    "    * The resulting vector $\\mathbf{v}$ has a different dimension than $\\mathbf{u}$\n",
    "  \n"
   ]
  },
  {
   "cell_type": "markdown",
   "metadata": {
    "slideshow": {
     "slide_type": "slide"
    }
   },
   "source": [
    "### Constraints on the Data - Cont'd\n",
    "\n",
    "\n",
    "* Recall, however, that what we are interested is identifying the axes that maximize the variances. \n",
    "\n",
    "\n",
    "* Therefore, we can use the covariance matrix, $\\Sigma$\n",
    "  * We can identify the eigenvectors of $\\Sigma$ instead\n",
    "\n",
    "\n",
    "\n",
    "* An entry (i,j) in covariance matrix $\\Sigma$  describes the covariance between features(variables) $i$ and $j$. \n",
    "\n",
    "  * For $i=j$, the matrix describes the variance for the variable $i$.\n"
   ]
  },
  {
   "cell_type": "code",
   "execution_count": 16,
   "metadata": {
    "slideshow": {
     "slide_type": "slide"
    }
   },
   "outputs": [
    {
     "data": {
      "text/html": [
       "<div>\n",
       "<style scoped>\n",
       "    .dataframe tbody tr th:only-of-type {\n",
       "        vertical-align: middle;\n",
       "    }\n",
       "\n",
       "    .dataframe tbody tr th {\n",
       "        vertical-align: top;\n",
       "    }\n",
       "\n",
       "    .dataframe thead th {\n",
       "        text-align: right;\n",
       "    }\n",
       "</style>\n",
       "<table border=\"1\" class=\"dataframe\">\n",
       "  <thead>\n",
       "    <tr style=\"text-align: right;\">\n",
       "      <th></th>\n",
       "      <th>x</th>\n",
       "      <th>y</th>\n",
       "    </tr>\n",
       "  </thead>\n",
       "  <tbody>\n",
       "    <tr>\n",
       "      <th>x</th>\n",
       "      <td>3.958851</td>\n",
       "      <td>4.764539</td>\n",
       "    </tr>\n",
       "    <tr>\n",
       "      <th>y</th>\n",
       "      <td>4.764539</td>\n",
       "      <td>6.076710</td>\n",
       "    </tr>\n",
       "  </tbody>\n",
       "</table>\n",
       "</div>"
      ],
      "text/plain": [
       "          x         y\n",
       "x  3.958851  4.764539\n",
       "y  4.764539  6.076710"
      ]
     },
     "execution_count": 16,
     "metadata": {},
     "output_type": "execute_result"
    }
   ],
   "source": [
    "### Rescaling the data \n",
    "\n",
    "\n",
    "normalizedRandomData = pd.DataFrame(StandardScaler().fit_transform(randomData), columns=[\"x1\", \"x2\"])\n",
    "\n",
    "covMatrix = pd.DataFrame.cov(randomData)\n",
    "\n",
    "covMatrix\n"
   ]
  },
  {
   "cell_type": "code",
   "execution_count": 17,
   "metadata": {
    "slideshow": {
     "slide_type": "slide"
    }
   },
   "outputs": [
    {
     "name": "stdout",
     "output_type": "stream",
     "text": [
      "[0.13698555 9.89857596]\n",
      "------------------------------\n",
      "[[-0.78005078 -0.62571621]\n",
      " [ 0.62571621 -0.78005078]]\n"
     ]
    }
   ],
   "source": [
    "eigvals, eigvecs = LA.eig(covMatrix)\n",
    "\n",
    "print(eigvals)\n",
    "print(\"-\" * 30)\n",
    "print(eigvecs)"
   ]
  },
  {
   "cell_type": "code",
   "execution_count": 21,
   "metadata": {
    "slideshow": {
     "slide_type": "slide"
    }
   },
   "outputs": [
    {
     "name": "stdout",
     "output_type": "stream",
     "text": [
      "Result of A * eigv_1 is:\n",
      "[-0.10685568596813531, 0.08571408044088365]\n",
      "Result of lambda * v\n",
      "[-0.10685569  0.08571408]\n"
     ]
    }
   ],
   "source": [
    "eig_v_1 = np.array([eigvecs[0,0], eigvecs[1,0]])\n",
    "\n",
    "print(\"Result of A * eigv_1 is:\")\n",
    "print(np.matmul(covMatrix, eig_v_1).to_list())\n",
    "\n",
    "print(\"Result of lambda * v\")\n",
    "\n",
    "print(eig_v_1 * eigvals[0])\n"
   ]
  },
  {
   "cell_type": "code",
   "execution_count": 64,
   "metadata": {
    "slideshow": {
     "slide_type": "slide"
    }
   },
   "outputs": [
    {
     "data": {
      "text/plain": [
       "<matplotlib.collections.PathCollection at 0x7fa35ad52e50>"
      ]
     },
     "execution_count": 64,
     "metadata": {},
     "output_type": "execute_result"
    },
    {
     "data": {
      "image/png": "[encoded data removed]",
      "text/plain": [
       "<Figure size 720x432 with 1 Axes>"
      ]
     },
     "metadata": {
      "needs_background": "light"
     },
     "output_type": "display_data"
    }
   ],
   "source": [
    "plt.figure(figsize=(10,6))\n",
    "\n",
    "plt.scatter(normalizedRandomData[\"x1\"], normalizedRandomData[\"x2\"])\n"
   ]
  },
  {
   "cell_type": "code",
   "execution_count": 65,
   "metadata": {
    "slideshow": {
     "slide_type": "slide"
    }
   },
   "outputs": [
    {
     "data": {
      "text/plain": [
       "(-0.7988578335142531, 0.6015198765069314)"
      ]
     },
     "execution_count": 65,
     "metadata": {},
     "output_type": "execute_result"
    }
   ],
   "source": [
    "eigvecs[0,0], eigvecs[1,0] "
   ]
  },
  {
   "cell_type": "code",
   "execution_count": 30,
   "metadata": {
    "slideshow": {
     "slide_type": "slide"
    }
   },
   "outputs": [
    {
     "name": "stderr",
     "output_type": "stream",
     "text": [
      "/var/folders/5l/gk6s2xx10qs0mkg4_9_vyp3h0000gn/T/ipykernel_69126/1946272414.py:4: FutureWarning: `rcond` parameter will change to the default of machine precision times ``max(M, N)`` where M and N are the input matrix dimensions.\n",
      "To use the future default and silence this warning we advise to pass `rcond=None`, to keep using the old, explicitly pass `rcond=-1`.\n",
      "  k, b = np.linalg.lstsq(A, y)[0]\n",
      "/var/folders/5l/gk6s2xx10qs0mkg4_9_vyp3h0000gn/T/ipykernel_69126/1946272414.py:4: FutureWarning: `rcond` parameter will change to the default of machine precision times ``max(M, N)`` where M and N are the input matrix dimensions.\n",
      "To use the future default and silence this warning we advise to pass `rcond=None`, to keep using the old, explicitly pass `rcond=-1`.\n",
      "  k, b = np.linalg.lstsq(A, y)[0]\n"
     ]
    },
    {
     "data": {
      "image/png": "[encoded data removed]",
      "text/plain": [
       "<Figure size 864x720 with 1 Axes>"
      ]
     },
     "metadata": {
      "needs_background": "light"
     },
     "output_type": "display_data"
    }
   ],
   "source": [
    "def drawLine2P(x,y, xlims, color):\n",
    "    xrange = np.arange(xlims[0],xlims[1],0.1)\n",
    "    A = np.vstack([x, np.ones(len(x))]).T\n",
    "    k, b = np.linalg.lstsq(A, y)[0]\n",
    "    plt.plot(xrange, k*xrange + b, color)\n",
    "\n",
    "plt.figure(figsize=(12,10))\n",
    "plt.scatter(randomData.x, randomData.y)\n",
    "\n",
    "\n",
    "drawLine2P((0, eigvecs[0,0]), (0, eigvecs[1,0]), (-3, 3), 'b')\n",
    "drawLine2P((0, eigvecs[0,1]), (0, eigvecs[1,1]), (-6, 6), 'r')\n",
    "plt.axis(\"equal\");\n"
   ]
  },
  {
   "cell_type": "markdown",
   "metadata": {
    "slideshow": {
     "slide_type": "slide"
    }
   },
   "source": [
    "### Eigenvalues Explain the Variance in the Data\n",
    "\n",
    "* Eigenvalues explain the variance captured by their Eigenvectors\n",
    "\n",
    "\n",
    "* We need to transform them into a percentage \n",
    "  * Dividing each eigenvalue by the sum of eigenvalues.\n",
    "    \n",
    "  \n"
   ]
  },
  {
   "cell_type": "code",
   "execution_count": 31,
   "metadata": {
    "slideshow": {
     "slide_type": "slide"
    }
   },
   "outputs": [
    {
     "name": "stdout",
     "output_type": "stream",
     "text": [
      "The variance captured by the first  eigenvector is: 0.13698555109772403\n",
      "The variance captured by the second eigenvector is: 9.898575955290402 \n"
     ]
    }
   ],
   "source": [
    "print(\"The variance captured by the first  eigenvector is: {}\".format(eigvals[0]))\n",
    "\n",
    "print(\"The variance captured by the second eigenvector is: {} \".format(eigvals[1]))"
   ]
  },
  {
   "cell_type": "code",
   "execution_count": 32,
   "metadata": {
    "slideshow": {
     "slide_type": "slide"
    }
   },
   "outputs": [
    {
     "name": "stdout",
     "output_type": "stream",
     "text": [
      "The percentage of variance captured by the first eigenvector is: 0.013650013605170574\n",
      "The variance captured by the second eigen vector is: 0.9863499863948293\n"
     ]
    }
   ],
   "source": [
    "print(\"The percentage of variance captured by the first eigenvector is: {}\".format(eigvals[0]/ sum(eigvals)))\n",
    "print(\"The variance captured by the second eigen vector is: {}\".format(eigvals[1]/sum(eigvals)))"
   ]
  },
  {
   "cell_type": "markdown",
   "metadata": {
    "slideshow": {
     "slide_type": "slide"
    }
   },
   "source": [
    "\n",
    "### Eigenvalues Explain the Variance in the Data\n",
    "* The second eigenvector captures of 98.9% of the total variance in the data. \n",
    "* By projecting on that eigenvector, our data retains most of its variance. \n",
    "  * We can project on simply by multiplying the original data by the the eigenvector\n",
    "  * As we did in the previous example"
   ]
  },
  {
   "cell_type": "code",
   "execution_count": 33,
   "metadata": {
    "slideshow": {
     "slide_type": "slide"
    }
   },
   "outputs": [
    {
     "name": "stdout",
     "output_type": "stream",
     "text": [
      "My eigenvectors are :\n",
      " [[-0.78005078 -0.62571621]\n",
      " [ 0.62571621 -0.78005078]]\n",
      "The selected eigenvector is:\n",
      " [[-0.62571621]\n",
      " [-0.78005078]]\n"
     ]
    }
   ],
   "source": [
    "print(\"My eigenvectors are :\\n %s\" % eigvecs)\n",
    "\n",
    "print(\"The selected eigenvector is:\\n %s\" % np.array([[eigvecs[0,1]], [eigvecs[1,1] ]]))\n"
   ]
  },
  {
   "cell_type": "code",
   "execution_count": 34,
   "metadata": {
    "slideshow": {
     "slide_type": "slide"
    }
   },
   "outputs": [
    {
     "data": {
      "text/html": [
       "<div>\n",
       "<style scoped>\n",
       "    .dataframe tbody tr th:only-of-type {\n",
       "        vertical-align: middle;\n",
       "    }\n",
       "\n",
       "    .dataframe tbody tr th {\n",
       "        vertical-align: top;\n",
       "    }\n",
       "\n",
       "    .dataframe thead th {\n",
       "        text-align: right;\n",
       "    }\n",
       "</style>\n",
       "<table border=\"1\" class=\"dataframe\">\n",
       "  <thead>\n",
       "    <tr style=\"text-align: right;\">\n",
       "      <th></th>\n",
       "      <th>z</th>\n",
       "    </tr>\n",
       "  </thead>\n",
       "  <tbody>\n",
       "    <tr>\n",
       "      <th>0</th>\n",
       "      <td>10.033712</td>\n",
       "    </tr>\n",
       "    <tr>\n",
       "      <th>1</th>\n",
       "      <td>4.881439</td>\n",
       "    </tr>\n",
       "    <tr>\n",
       "      <th>2</th>\n",
       "      <td>3.974085</td>\n",
       "    </tr>\n",
       "    <tr>\n",
       "      <th>3</th>\n",
       "      <td>3.805503</td>\n",
       "    </tr>\n",
       "    <tr>\n",
       "      <th>4</th>\n",
       "      <td>2.197665</td>\n",
       "    </tr>\n",
       "  </tbody>\n",
       "</table>\n",
       "</div>"
      ],
      "text/plain": [
       "           z\n",
       "0  10.033712\n",
       "1   4.881439\n",
       "2   3.974085\n",
       "3   3.805503\n",
       "4   2.197665"
      ]
     },
     "execution_count": 34,
     "metadata": {},
     "output_type": "execute_result"
    }
   ],
   "source": [
    "newData =  randomData.dot(np.array([[eigvecs[0,1]], [eigvecs[1,1]]]))\n",
    "newData.columns = ['z']\n",
    "newData.head()"
   ]
  },
  {
   "cell_type": "code",
   "execution_count": 35,
   "metadata": {
    "slideshow": {
     "slide_type": "slide"
    }
   },
   "outputs": [
    {
     "data": {
      "image/png": "[encoded data removed]",
      "text/plain": [
       "<Figure size 864x288 with 1 Axes>"
      ]
     },
     "metadata": {
      "needs_background": "light"
     },
     "output_type": "display_data"
    }
   ],
   "source": [
    "plt.figure(figsize=(12, 4))\n",
    "\n",
    "plt.xlabel('z')\n",
    "plt.title('Projecting on the axis that captures most variance')\n",
    "\n",
    "plt.scatter(newData, [0 for _ in range(len(newData))])\n",
    "ax = plt.gca()\n",
    "ax.yaxis.set_visible(False)"
   ]
  },
  {
   "cell_type": "markdown",
   "metadata": {
    "slideshow": {
     "slide_type": "slide"
    }
   },
   "source": [
    "## Running PCA with Scikit-Learn\n",
    "\n",
    "* Scikit-Learn has an implementation of PCA similar that described above\n",
    "  * Scikit-Learn also has many other dimensionality reduction algorithms\n",
    "* The package finds the eigenvectors and eigenvalues and sort them based on the explained variance ratio   "
   ]
  },
  {
   "cell_type": "code",
   "execution_count": 36,
   "metadata": {
    "slideshow": {
     "slide_type": "slide"
    }
   },
   "outputs": [],
   "source": [
    "pca = PCA(n_components=2)\n",
    "_ = pca.fit(randomData)"
   ]
  },
  {
   "cell_type": "code",
   "execution_count": 37,
   "metadata": {
    "slideshow": {
     "slide_type": "slide"
    }
   },
   "outputs": [
    {
     "data": {
      "text/plain": [
       "array([0.98634999, 0.01365001])"
      ]
     },
     "execution_count": 37,
     "metadata": {},
     "output_type": "execute_result"
    }
   ],
   "source": [
    "    \n",
    "#sns.regplot(x_axis, y_axis, ci=False, fit_reg=False)\n",
    "\n",
    "pca.explained_variance_ratio_\n"
   ]
  },
  {
   "cell_type": "code",
   "execution_count": 38,
   "metadata": {
    "slideshow": {
     "slide_type": "slide"
    }
   },
   "outputs": [
    {
     "data": {
      "text/plain": [
       "array([[-0.62571621, -0.78005078],\n",
       "       [ 0.78005078, -0.62571621]])"
      ]
     },
     "execution_count": 38,
     "metadata": {},
     "output_type": "execute_result"
    }
   ],
   "source": [
    "pca.components_"
   ]
  },
  {
   "cell_type": "code",
   "execution_count": 47,
   "metadata": {
    "slideshow": {
     "slide_type": "slide"
    }
   },
   "outputs": [
    {
     "name": "stderr",
     "output_type": "stream",
     "text": [
      "/var/folders/5l/gk6s2xx10qs0mkg4_9_vyp3h0000gn/T/ipykernel_69126/1946272414.py:4: FutureWarning: `rcond` parameter will change to the default of machine precision times ``max(M, N)`` where M and N are the input matrix dimensions.\n",
      "To use the future default and silence this warning we advise to pass `rcond=None`, to keep using the old, explicitly pass `rcond=-1`.\n",
      "  k, b = np.linalg.lstsq(A, y)[0]\n",
      "/var/folders/5l/gk6s2xx10qs0mkg4_9_vyp3h0000gn/T/ipykernel_69126/1946272414.py:4: FutureWarning: `rcond` parameter will change to the default of machine precision times ``max(M, N)`` where M and N are the input matrix dimensions.\n",
      "To use the future default and silence this warning we advise to pass `rcond=None`, to keep using the old, explicitly pass `rcond=-1`.\n",
      "  k, b = np.linalg.lstsq(A, y)[0]\n"
     ]
    },
    {
     "data": {
      "image/png": "[encoded data removed]",
      "text/plain": [
       "<Figure size 864x432 with 1 Axes>"
      ]
     },
     "metadata": {
      "needs_background": "light"
     },
     "output_type": "display_data"
    }
   ],
   "source": [
    "plt.figure(figsize=(12,6))\n",
    "plt.scatter(randomData.x, randomData.y)\n",
    "\n",
    "# drawLine2P((0, v[0,0]), (0, v[0,1]), (-6, 6), 'k')\n",
    "\n",
    "drawLine2P((0, pca.components_[0,0]), (0, pca.components_[1,0]), (-2, 2), 'r')\n",
    "\n",
    "drawLine2P((0, pca.components_[0,1]), (0, pca.components_[1,1]), (-7, 7), 'b')\n",
    "\n",
    "plt.axis(\"equal\");\n"
   ]
  },
  {
   "cell_type": "code",
   "execution_count": 40,
   "metadata": {
    "slideshow": {
     "slide_type": "slide"
    }
   },
   "outputs": [
    {
     "name": "stdout",
     "output_type": "stream",
     "text": [
      "[[-0.62571621 -0.78005078]\n",
      " [ 0.78005078 -0.62571621]]\n"
     ]
    }
   ],
   "source": [
    "print(pca.components_)"
   ]
  },
  {
   "cell_type": "code",
   "execution_count": 41,
   "metadata": {
    "slideshow": {
     "slide_type": "slide"
    }
   },
   "outputs": [
    {
     "name": "stdout",
     "output_type": "stream",
     "text": [
      "[9.89857596 0.13698555]\n"
     ]
    }
   ],
   "source": [
    "print(pca.explained_variance_)"
   ]
  },
  {
   "cell_type": "code",
   "execution_count": 42,
   "metadata": {
    "slideshow": {
     "slide_type": "slide"
    }
   },
   "outputs": [
    {
     "name": "stdout",
     "output_type": "stream",
     "text": [
      "[0.98634999 0.01365001]\n"
     ]
    }
   ],
   "source": [
    "print(pca.explained_variance_/sum(pca.explained_variance_))"
   ]
  },
  {
   "cell_type": "code",
   "execution_count": 43,
   "metadata": {
    "slideshow": {
     "slide_type": "slide"
    }
   },
   "outputs": [
    {
     "data": {
      "text/html": [
       "<style>#sk-container-id-1 {color: black;background-color: white;}#sk-container-id-1 pre{padding: 0;}#sk-container-id-1 div.sk-toggleable {background-color: white;}#sk-container-id-1 label.sk-toggleable__label {cursor: pointer;display: block;width: 100%;margin-bottom: 0;padding: 0.3em;box-sizing: border-box;text-align: center;}#sk-container-id-1 label.sk-toggleable__label-arrow:before {content: \"▸\";float: left;margin-right: 0.25em;color: #696969;}#sk-container-id-1 label.sk-toggleable__label-arrow:hover:before {color: black;}#sk-container-id-1 div.sk-estimator:hover label.sk-toggleable__label-arrow:before {color: black;}#sk-container-id-1 div.sk-toggleable__content {max-height: 0;max-width: 0;overflow: hidden;text-align: left;background-color: #f0f8ff;}#sk-container-id-1 div.sk-toggleable__content pre {margin: 0.2em;color: black;border-radius: 0.25em;background-color: #f0f8ff;}#sk-container-id-1 input.sk-toggleable__control:checked~div.sk-toggleable__content {max-height: 200px;max-width: 100%;overflow: auto;}#sk-container-id-1 input.sk-toggleable__control:checked~label.sk-toggleable__label-arrow:before {content: \"▾\";}#sk-container-id-1 div.sk-estimator input.sk-toggleable__control:checked~label.sk-toggleable__label {background-color: #d4ebff;}#sk-container-id-1 div.sk-label input.sk-toggleable__control:checked~label.sk-toggleable__label {background-color: #d4ebff;}#sk-container-id-1 input.sk-hidden--visually {border: 0;clip: rect(1px 1px 1px 1px);clip: rect(1px, 1px, 1px, 1px);height: 1px;margin: -1px;overflow: hidden;padding: 0;position: absolute;width: 1px;}#sk-container-id-1 div.sk-estimator {font-family: monospace;background-color: #f0f8ff;border: 1px dotted black;border-radius: 0.25em;box-sizing: border-box;margin-bottom: 0.5em;}#sk-container-id-1 div.sk-estimator:hover {background-color: #d4ebff;}#sk-container-id-1 div.sk-parallel-item::after {content: \"\";width: 100%;border-bottom: 1px solid gray;flex-grow: 1;}#sk-container-id-1 div.sk-label:hover label.sk-toggleable__label {background-color: #d4ebff;}#sk-container-id-1 div.sk-serial::before {content: \"\";position: absolute;border-left: 1px solid gray;box-sizing: border-box;top: 0;bottom: 0;left: 50%;z-index: 0;}#sk-container-id-1 div.sk-serial {display: flex;flex-direction: column;align-items: center;background-color: white;padding-right: 0.2em;padding-left: 0.2em;position: relative;}#sk-container-id-1 div.sk-item {position: relative;z-index: 1;}#sk-container-id-1 div.sk-parallel {display: flex;align-items: stretch;justify-content: center;background-color: white;position: relative;}#sk-container-id-1 div.sk-item::before, #sk-container-id-1 div.sk-parallel-item::before {content: \"\";position: absolute;border-left: 1px solid gray;box-sizing: border-box;top: 0;bottom: 0;left: 50%;z-index: -1;}#sk-container-id-1 div.sk-parallel-item {display: flex;flex-direction: column;z-index: 1;position: relative;background-color: white;}#sk-container-id-1 div.sk-parallel-item:first-child::after {align-self: flex-end;width: 50%;}#sk-container-id-1 div.sk-parallel-item:last-child::after {align-self: flex-start;width: 50%;}#sk-container-id-1 div.sk-parallel-item:only-child::after {width: 0;}#sk-container-id-1 div.sk-dashed-wrapped {border: 1px dashed gray;margin: 0 0.4em 0.5em 0.4em;box-sizing: border-box;padding-bottom: 0.4em;background-color: white;}#sk-container-id-1 div.sk-label label {font-family: monospace;font-weight: bold;display: inline-block;line-height: 1.2em;}#sk-container-id-1 div.sk-label-container {text-align: center;}#sk-container-id-1 div.sk-container {/* jupyter's `normalize.less` sets `[hidden] { display: none; }` but bootstrap.min.css set `[hidden] { display: none !important; }` so we also need the `!important` here to be able to override the default hidden behavior on the sphinx rendered scikit-learn.org. See: https://github.com/scikit-learn/scikit-learn/issues/21755 */display: inline-block !important;position: relative;}#sk-container-id-1 div.sk-text-repr-fallback {display: none;}</style><div id=\"sk-container-id-1\" class=\"sk-top-container\"><div class=\"sk-text-repr-fallback\"><pre>PCA(n_components=2)</pre><b>In a Jupyter environment, please rerun this cell to show the HTML representation or trust the notebook. <br />On GitHub, the HTML representation is unable to render, please try loading this page with nbviewer.org.</b></div><div class=\"sk-container\" hidden><div class=\"sk-item\"><div class=\"sk-estimator sk-toggleable\"><input class=\"sk-toggleable__control sk-hidden--visually\" id=\"sk-estimator-id-1\" type=\"checkbox\" checked><label for=\"sk-estimator-id-1\" class=\"sk-toggleable__label sk-toggleable__label-arrow\">PCA</label><div class=\"sk-toggleable__content\"><pre>PCA(n_components=2)</pre></div></div></div></div></div>"
      ],
      "text/plain": [
       "PCA(n_components=2)"
      ]
     },
     "execution_count": 43,
     "metadata": {},
     "output_type": "execute_result"
    }
   ],
   "source": [
    "X = randomData.to_numpy()\n",
    "\n",
    "pca = PCA(n_components=2)\n",
    "\n",
    "pca.fit(X)\n"
   ]
  },
  {
   "cell_type": "markdown",
   "metadata": {
    "slideshow": {
     "slide_type": "slide"
    }
   },
   "source": [
    "<img src=\"https://www.dropbox.com/s/y3nmp8p2o9akiht/eig_vecs.png?dl=1\" alt=\"drawing\" style=\"width:900px;\"/>\n"
   ]
  },
  {
   "cell_type": "code",
   "execution_count": 44,
   "metadata": {
    "slideshow": {
     "slide_type": "skip"
    }
   },
   "outputs": [
    {
     "data": {
      "image/png": "[encoded data removed]",
      "text/plain": [
       "<Figure size 1440x432 with 1 Axes>"
      ]
     },
     "metadata": {
      "needs_background": "light"
     },
     "output_type": "display_data"
    }
   ],
   "source": [
    "def draw_vector(v0, v1, ax=None):\n",
    "    ax = ax or plt.gca()\n",
    "    arrowprops=dict(arrowstyle='->',\n",
    "                    linewidth=2,\n",
    "                    shrinkA=0, shrinkB=0)\n",
    "    ax.annotate('', v1, v0, arrowprops=arrowprops)\n",
    "\n",
    "plt.figure(figsize=(20,6))\n",
    "plt.scatter(X[:, 0], X[:, 1], alpha=0.2)\n",
    "for length, vector in zip(pca.explained_variance_, pca.components_):\n",
    "    v = vector * 2 * np.sqrt(length)\n",
    "    draw_vector(pca.mean_, pca.mean_ + v)\n",
    "plt.axis('equal');"
   ]
  },
  {
   "cell_type": "code",
   "execution_count": 45,
   "metadata": {
    "slideshow": {
     "slide_type": "slide"
    }
   },
   "outputs": [
    {
     "name": "stdout",
     "output_type": "stream",
     "text": [
      "The ration of explained variance is: [0.98634999 0.01365001] \n"
     ]
    }
   ],
   "source": [
    "print(\"The ration of explained variance is: %s \" % pca.explained_variance_ratio_)"
   ]
  },
  {
   "cell_type": "markdown",
   "metadata": {
    "slideshow": {
     "slide_type": "slide"
    }
   },
   "source": [
    "### PCA Advantages and Limitations\n",
    "* Advantages\n",
    "  * Interpretable\n",
    "  * Ideal for data where most variance is constrained to first dimensions.\n",
    "\n",
    "* Limitations\n",
    "  * non-linear weird and curved shaped surfaces necessitated development of more advanced algorithms like Manifold Learning. \n",
    "    * Linear dimensionality reduction cannot cluster data with non-linear global structure.\n",
    " * Does not handle large datasets\n",
    "  \n"
   ]
  },
  {
   "cell_type": "markdown",
   "metadata": {
    "slideshow": {
     "slide_type": "slide"
    }
   },
   "source": [
    "<img src=\"https://www.dropbox.com/s/ukkk7i4s4ppya0h/swiss_roll.png?dl=1\" alt=\"drawing\" style=\"width:500px;\"/>"
   ]
  },
  {
   "cell_type": "markdown",
   "metadata": {
    "slideshow": {
     "slide_type": "slide"
    }
   },
   "source": [
    "### PCA  Limitations\n",
    "* PCA is unsupervised does not take labels into account.\n",
    "  * If your data is labeled, PCA cannot take that information into considerations to produce better clusters\n",
    "  * Method such as LDA or methods based on Correlation Analysis (CA) are used when label data is provided \n",
    "\n",
    "* Works well for plotting only when most of the variance is contained in the first 2 principal components\n",
    "  * Often not the case of complicated datasets."
   ]
  },
  {
   "cell_type": "markdown",
   "metadata": {
    "slideshow": {
     "slide_type": "slide"
    }
   },
   "source": [
    "### Points Crowding Problem\n",
    "\n",
    "* a major issue when reducing the dimensionality of high-dimensional data is the crowding issue.\n",
    "\n",
    "  * Somewhat similar points in very high dimension collapsing on top of each other in lower dimensions \n",
    "  * A lot more space in higher dimensions than lower dimensions, so data can vary in many more ways in higher dimensions yet be very crowded in a lower dimension embedding.\n",
    "\n",
    "![](https://www.dropbox.com/s/5qh34vny41e0hka/crowding.png?dl=1)"
   ]
  },
  {
   "cell_type": "markdown",
   "metadata": {
    "slideshow": {
     "slide_type": "slide"
    }
   },
   "source": [
    "### PCA on Very Large Datasets\n",
    "\n",
    "* PCA assumes that we can store the data, the covariance matrix in RAM.\n",
    "  * This is often possible with datasets that have a very large number of features.\n",
    "  * Few GB with a dataset with 15k features  \n",
    "* May not scale for datasets having hundreds of thousands of features.\n",
    "* Alternative implementations to handle large data\n",
    "  * Incremental principal component analysis (IPCA) (implemented in scikit-learn)\n",
    "  * Distributed computation (Implemented in Spark's mllib )\n",
    "  * Probabilistic approach with theoretical guarantees (ex. ProPCA package)      \n",
    "  * etc..."
   ]
  }
 ],
 "metadata": {
  "celltoolbar": "Slideshow",
  "kernelspec": {
   "display_name": "Python 3 (ipykernel)",
   "language": "python",
   "name": "python3"
  },
  "language_info": {
   "codemirror_mode": {
    "name": "ipython",
    "version": 3
   },
   "file_extension": ".py",
   "mimetype": "text/x-python",
   "name": "python",
   "nbconvert_exporter": "python",
   "pygments_lexer": "ipython3",
   "version": "3.8.13"
  }
 },
 "nbformat": 4,
 "nbformat_minor": 2
}
