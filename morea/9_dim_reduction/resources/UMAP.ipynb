{
 "cells": [
  {
   "cell_type": "markdown",
   "id": "d38c1b7c",
   "metadata": {},
   "source": [
    "### What is UAMP?\n",
    "* Uniform Manifold Approximation and Projection (UMAP) is  general non-linear dimension reduction.\n",
    "  * https://umap-learn.readthedocs.io/en/latest/\n",
    "  \n",
    "  A manifold is an extremely important concept in mathematics. In layman’s terms, you can think of it as a surface of any shape. It doesn’t necessarily have to be a plane i.e. it can be shaped like a folded sheet with all the curves. This is generalized to ‘n’ dimensions and formalized as “manifold” in mathematics. If you are interested, you can just google it and read more about it. There are a lot of cool visualizations available on the web.\n",
    "\n",
    "  \n",
    "\n",
    "Manifold Learning can be thought of as an attempt to generalize linear frameworks like PCA to be sensitive to non-linear structure in data. Though supervised variants exist, the typical manifold learning problem is unsupervised: it learns the high-dimensional structure of the data from the data itself, without the use of predetermined classifications.\n",
    "\n"
   ]
  },
  {
   "cell_type": "markdown",
   "id": "e9bb5d7a",
   "metadata": {},
   "source": [
    "### UMAP Intuition\n",
    "\n",
    "* Create a low dimensional representation that resembled higher dimensional \"structure\" of the data. \n",
    " \n",
    " \n",
    "1. Calculate the distances between points in higher dimensional space\n",
    "  * Use the number of neighbors as a parameters to estimate the distnaces between points and draw the graph\n",
    "\n",
    "2. Initialize the lower dimensional graph usig a deterministic approacg\n",
    " * uses spectral embedding\n",
    "\n",
    "iteratively move points around until they achive a structure that is most similar to that obtained with the higher-dimensional dataset\n",
    "\n"
   ]
  },
  {
   "cell_type": "markdown",
   "id": "0f31b48b",
   "metadata": {},
   "source": [
    "### Compute Raw Distances\n",
    "* The computation herehere\n",
    "![](https://www.dropbox.com/s/2ym6h8gtkc2vt5g/UMAP%20raw_distances.png?dl=1)"
   ]
  },
  {
   "cell_type": "markdown",
   "id": "cf3ad74f",
   "metadata": {},
   "source": [
    "### Graph Construction\n",
    "\n",
    "* The first phase of UMAP can be thought of as the construction of a weighted k-neighbour graph\n",
    "\n",
    "\n",
    "Given an input hyperparameter k, for each xi we compute the set ${x_i1, \\dots , x_ik}$ of the $k$ nearest neighbors of $x_i$ under the metric d.\n",
    "  * Computation can be performed via any nearest neighbour or approximate nearest neighbour search algorithm.\n",
    "\n",
    "![](https://www.dropbox.com/s/rgorqfegvjx0vg1/rho.png?dl=1)\n",
    "\n",
    "![](https://www.dropbox.com/s/qeqr3o3jwiqba6v/rho_full.png?dl=1)\n",
    "\n",
    "![](https://www.dropbox.com/s/vixdwdebswgjiwr/final_weight.png?dl=1)"
   ]
  },
  {
   "cell_type": "markdown",
   "id": "62abd530",
   "metadata": {},
   "source": [
    "### Graph Construction - cont'd\n",
    "\n",
    "\n",
    "![](https://www.dropbox.com/s/k75eb67bf42nlu4/graph_distance.png?dl=1)\n",
    "\n"
   ]
  },
  {
   "cell_type": "code",
   "execution_count": null,
   "id": "a0c57e04",
   "metadata": {},
   "outputs": [],
   "source": [
    "### Graph Construction - Final \n",
    "\n",
    "https://www.dropbox.com/s/acp8i0pqys4ece2/final_graph.png?dl=1"
   ]
  },
  {
   "cell_type": "markdown",
   "id": "83b94933",
   "metadata": {},
   "source": [
    "### Graph Construction - cont'd\n",
    "\n",
    "![](https://www.dropbox.com/s/ybt90uqz57c21hn/graph_2.png?dl=1)"
   ]
  },
  {
   "cell_type": "code",
   "execution_count": null,
   "id": "654399fd",
   "metadata": {},
   "outputs": [],
   "source": [
    "### Advantage\n",
    "\n",
    "* relatively fast, even whith large datasets    \n",
    "  * UMAP consistently performs faster than other popular algorithms such t-SNE, LargeVis and Isomap\n",
    "\n",
    "\n",
    "\n"
   ]
  },
  {
   "cell_type": "markdown",
   "id": "c4d7dfdf",
   "metadata": {},
   "source": [
    "### Weaknesses\n",
    "* UMAP lacks the strong interpretability of Principal Component Analysis (PCA) and related techniques\n",
    "  * UMAP embedding space have no specic meaning, unlike PCA where the dimensions are the directions of greatest variance in the source data. \n",
    "  \n",
    "  \n",
    "* One of the core assumptions of UMAP is that there exists manifold structure in the data. Because of this UMAP can tend to find manifold structure within the noise of a dataset\n",
    "\n",
    "UMAP therefore concerns itself primarily with accurately representing local structure. \n",
    " * Derived from the axiom that local distance is of more importance than long range distances (similar to techniques like t-SNE and LargeVis). \n",
    "\n",
    "not be the best choice for\n",
    "dimension reduction if global structure is of importance.\n",
    "\n",
    "\n"
   ]
  }
 ],
 "metadata": {
  "kernelspec": {
   "display_name": "Python 3 (ipykernel)",
   "language": "python",
   "name": "python3"
  },
  "language_info": {
   "codemirror_mode": {
    "name": "ipython",
    "version": 3
   },
   "file_extension": ".py",
   "mimetype": "text/x-python",
   "name": "python",
   "nbconvert_exporter": "python",
   "pygments_lexer": "ipython3",
   "version": "3.8.13"
  }
 },
 "nbformat": 4,
 "nbformat_minor": 5
}
