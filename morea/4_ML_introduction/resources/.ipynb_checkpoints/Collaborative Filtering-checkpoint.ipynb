{
 "cells": [
  {
   "cell_type": "markdown",
   "id": "4644d9d6",
   "metadata": {},
   "source": [
    "### Collaborative Filtering\n",
    "\n",
    "* Online offerings are growing at such a rapid rate that it is very difficult to find relevant content or products\n",
    "\n",
    "* Non personalized recommendations are a common way to filter through a large offerings\n",
    "  * ex. Amazon bestseller in category X.\n",
    "  * News you should know this week\n",
    "  * Top 50 songs \n",
    "  * ....\n",
    "\n",
    "* Based on slides from the [Mining Massive Datasets](mmds.org)\n",
    "* Can we suggest items or users based on similarities?\n",
    "  * Users A and B have similar tastes in movies. If user A likes Movie X, then user B might like it as well. Therefore, X is a good movie recommendation for user B.\n",
    "  * Movies X and Y share similar elements (same characters, plots, etc.). Users A enjoys movie X, so suggesting movie Y may be relevant.\n",
    "\n",
    "\n"
   ]
  },
  {
   "cell_type": "markdown",
   "id": "fbd389ef",
   "metadata": {},
   "source": [
    "### Collaborative FIltering Example\n",
    "\n",
    "<img src=\"https://www.dropbox.com/s/zl8vxnxmaji3bfb/cf_example.png?dl=1\">\n"
   ]
  },
  {
   "cell_type": "markdown",
   "id": "9f62371b",
   "metadata": {},
   "source": [
    "### Collaborative FIltering Example\n",
    "\n",
    "* This problem is referred to as collaborative filtering:\n",
    "  * Collaborative filtering is a method of making automatic predictions (filtering) about the interests of a user by collecting preferences or taste information from many users (collaborating) or items.\n",
    "<img src=\"https://www.dropbox.com/s/zl8vxnxmaji3bfb/cf_example.png?dl=1\" width=200>\n",
    "\n",
    "\n",
    "* Premise: Users with \"similar\" feedback for a number of items have similar tastes."
   ]
  },
  {
   "cell_type": "markdown",
   "id": "4c0249c5",
   "metadata": {},
   "source": [
    "### Feedback About Products\n",
    "\n",
    "* The feedback about movies falls into one of two categories:\n",
    "\n",
    "  1. Explicitly provided through a (typically numerical) rating scheme (e.g.: thumbs up or stars)\n",
    "  \n",
    "  2. Implicit\n",
    "    * User finished or didn't finish a movie\n",
    "    * Read a book in less time than his avg reading time\n",
    "    * Played a song multiple imes\n",
    "    * Multiple users in the same household watched the movie\n",
    "    * Bought an item at time t and gifted another one.\n"
   ]
  },
  {
   "cell_type": "markdown",
   "id": "2b203c7d",
   "metadata": {},
   "source": [
    "### Utility Matrix\n",
    "\n",
    "* There are two classes of entities\n",
    "  * `users`: have preferences that they express either implicitely or explicitely. \n",
    "  * `items`: content or products that users express interest in.\n",
    "  \n",
    "* The `users` preferences for `items` is stored in a utility marix.\n",
    "\n",
    "* We assume that the matrix is sparse\n",
    "  * Most entries are “null” as users predominantly do not rate products"
   ]
  },
  {
   "cell_type": "markdown",
   "id": "44781d31",
   "metadata": {},
   "source": [
    "### Problems Relavant to Collaborative Filtering\n",
    "\n",
    "1. Gathering “known” ratings for matrix\n",
    "  * How to collect the data in the utility matrix? \n",
    "    * Explicit is easy and accurate but leads to more sparse data\n",
    "    * Implict can be more helfpul but may be harder ro\n",
    "    \n",
    "2. Extrapolating unknown ratings from the known ones\n",
    "  * Mainly interested in unknown ratings whose prediction we blieve is high\n",
    "    * Collaborative filtering is not interested in knowing what you don’t like\n",
    "    \n",
    "3. Evaluating extrapolation methods: \n",
    "  * How can we measure the performance of recommendation methods?"
   ]
  },
  {
   "cell_type": "markdown",
   "id": "2e6e686f",
   "metadata": {},
   "source": [
    "### Extrapolating unknown ratings: Intuition\n",
    "\n",
    "<img src=\"https://www.dropbox.com/s/8hx5swosjdb7vqs/correlation.png?dl=1\" width=500>"
   ]
  },
  {
   "cell_type": "markdown",
   "id": "b6703088",
   "metadata": {},
   "source": [
    "### Extrapolating unknown ratings: Intuition - Cont'd\n",
    "\n",
    "* Incertainty in fiding overlap with a single user can be mitigated by considering ratings from multiple users\n",
    "  * Information is weights by users similarity (proximi)\n"
   ]
  },
  {
   "cell_type": "code",
   "execution_count": null,
   "id": "543f5383",
   "metadata": {},
   "outputs": [],
   "source": []
  }
 ],
 "metadata": {
  "kernelspec": {
   "display_name": "Python 3 (ipykernel)",
   "language": "python",
   "name": "python3"
  },
  "language_info": {
   "codemirror_mode": {
    "name": "ipython",
    "version": 3
   },
   "file_extension": ".py",
   "mimetype": "text/x-python",
   "name": "python",
   "nbconvert_exporter": "python",
   "pygments_lexer": "ipython3",
   "version": "3.8.13"
  }
 },
 "nbformat": 4,
 "nbformat_minor": 5
}
