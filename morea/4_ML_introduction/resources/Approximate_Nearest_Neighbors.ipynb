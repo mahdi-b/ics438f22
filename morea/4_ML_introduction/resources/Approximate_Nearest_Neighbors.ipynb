{
 "cells": [
  {
   "cell_type": "code",
   "execution_count": null,
   "id": "b63e56eb",
   "metadata": {},
   "outputs": [],
   "source": [
    "* The trivial algorithm to find the neighbors requires processing all queries\n",
    "\n",
    "* How can we find the closest neighbor in less time.\n",
    "\n",
    "\n",
    "Keep a ranken list of k distances\n",
    "- Set k to very large distance.\n",
    "Update the list by comparing with each currently set k.\n",
    "\n"
   ]
  },
  {
   "cell_type": "code",
   "execution_count": null,
   "id": "66d6ec6c",
   "metadata": {},
   "outputs": [],
   "source": [
    "Often times, we can do with the approximate closest neighbors.\n",
    " Fine for a large datasets that are dense.\n",
    "Annoy () Method\n",
    "https://github.com/spotify/annoy\n",
    "\n",
    "    \n",
    "    "
   ]
  },
  {
   "cell_type": "code",
   "execution_count": null,
   "id": "0474d0e8",
   "metadata": {},
   "outputs": [],
   "source": [
    "    \n",
    "Log N complexity in time\n",
    "\n",
    "The storage depends on the number of trees we will need to use.\n",
    "  * a forest.\n",
    "* each tree holds ony the labels. The value are still contained in a single location \n"
   ]
  }
 ],
 "metadata": {
  "kernelspec": {
   "display_name": "Python 3 (ipykernel)",
   "language": "python",
   "name": "python3"
  },
  "language_info": {
   "codemirror_mode": {
    "name": "ipython",
    "version": 3
   },
   "file_extension": ".py",
   "mimetype": "text/x-python",
   "name": "python",
   "nbconvert_exporter": "python",
   "pygments_lexer": "ipython3",
   "version": "3.8.13"
  }
 },
 "nbformat": 4,
 "nbformat_minor": 5
}
